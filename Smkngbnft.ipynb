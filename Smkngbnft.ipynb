{
 "cells": [
  {
   "cell_type": "code",
   "execution_count": 7,
   "id": "98e1aab4",
   "metadata": {},
   "outputs": [
    {
     "name": "stdout",
     "output_type": "stream",
     "text": [
      "Average number of sigarette packs per day, items: 1\n",
      "Average time to smoke one sigarette, min: 10\n",
      "Sigarette pack's price, money units: 270\n",
      "RUB\n",
      "Total benefit comprices 12 full 8-hour working days and 8100 RUB per mth\n"
     ]
    }
   ],
   "source": [
    "# inputs\n",
    "packs_per_day = float(input('Average number of sigarette packs per day, items: '))\n",
    "time_to_smoke = int(input('Average time to smoke one sigarette, min: '))\n",
    "price = int(input('Sigarette pack\\'s price, money units: '))\n",
    "currency = input()\n",
    "# constants\n",
    "ITEMS_IN_PACK = 20\n",
    "MINUTES_IN_HOUR = 60\n",
    "DAYS_IN_MTH = 30\n",
    "WORK_DAY = 8\n",
    "# calculations\n",
    "expence = DAYS_IN_MTH * price * packs_per_day\n",
    "working_days = ITEMS_IN_PACK * time_to_smoke * packs_per_day * DAYS_IN_MTH / MINUTES_IN_HOUR / WORK_DAY\n",
    "# f-strings were introduced\n",
    "print(f'Total benefit comprices {round(working_days)} full 8-hour working days and {expence:.0f} {currency} per mth')"
   ]
  },
  {
   "cell_type": "code",
   "execution_count": 8,
   "id": "f720e1e3",
   "metadata": {},
   "outputs": [
    {
     "name": "stdout",
     "output_type": "stream",
     "text": [
      "2.718\n",
      "2\n"
     ]
    },
    {
     "ename": "NameError",
     "evalue": "name 'digits_to_leave' is not defined",
     "output_type": "error",
     "traceback": [
      "\u001b[1;31m---------------------------------------------------------------------------\u001b[0m",
      "\u001b[1;31mNameError\u001b[0m                                 Traceback (most recent call last)",
      "\u001b[1;32m<ipython-input-8-e3298c31a519>\u001b[0m in \u001b[0;36m<module>\u001b[1;34m\u001b[0m\n\u001b[0;32m      1\u001b[0m \u001b[0mnumber_to_round\u001b[0m \u001b[1;33m=\u001b[0m \u001b[0mfloat\u001b[0m\u001b[1;33m(\u001b[0m\u001b[0minput\u001b[0m\u001b[1;33m(\u001b[0m\u001b[1;33m)\u001b[0m\u001b[1;33m)\u001b[0m\u001b[1;33m\u001b[0m\u001b[1;33m\u001b[0m\u001b[0m\n\u001b[0;32m      2\u001b[0m \u001b[0mgidits_to_leave\u001b[0m \u001b[1;33m=\u001b[0m \u001b[0minput\u001b[0m\u001b[1;33m(\u001b[0m\u001b[1;33m)\u001b[0m\u001b[1;33m\u001b[0m\u001b[1;33m\u001b[0m\u001b[0m\n\u001b[1;32m----> 3\u001b[1;33m \u001b[0mprint\u001b[0m\u001b[1;33m(\u001b[0m\u001b[0mstr\u001b[0m\u001b[1;33m(\u001b[0m\u001b[1;34m'str.'\u001b[0m\u001b[1;33m+\u001b[0m \u001b[0mdigits_to_leave\u001b[0m \u001b[1;33m+\u001b[0m \u001b[1;34m'f'\u001b[0m\u001b[1;33m)\u001b[0m \u001b[1;33m%\u001b[0m \u001b[0mnumber_to_round\u001b[0m\u001b[1;33m)\u001b[0m\u001b[1;33m\u001b[0m\u001b[1;33m\u001b[0m\u001b[0m\n\u001b[0m",
      "\u001b[1;31mNameError\u001b[0m: name 'digits_to_leave' is not defined"
     ]
    }
   ],
   "source": [
    "number_to_round = float(input())\n",
    "gidits_to_leave = input()\n",
    "print(str('str.'+ digits_to_leave + 'f') % number_to_round)"
   ]
  },
  {
   "cell_type": "code",
   "execution_count": 11,
   "id": "8ec8dd35",
   "metadata": {},
   "outputs": [
    {
     "name": "stdout",
     "output_type": "stream",
     "text": [
      "3.4260994\n",
      "3\n",
      "3.426\n"
     ]
    }
   ],
   "source": [
    "number_to_round = float(input())\n",
    "gidits_to_leave = int(input())\n",
    "print(f'{number_to_round:.3f}')"
   ]
  },
  {
   "cell_type": "code",
   "execution_count": null,
   "id": "bbdcf809",
   "metadata": {},
   "outputs": [],
   "source": [
    "number_to_round = float(input())\n",
    "digits_to_leave = input()\n",
    "d_t_l = '%.' + digits_to_leave + 'f'\n",
    "print(d_t_l % number_to_round)"
   ]
  },
  {
   "cell_type": "code",
   "execution_count": 1,
   "id": "787705eb",
   "metadata": {},
   "outputs": [
    {
     "name": "stdout",
     "output_type": "stream",
     "text": [
      "3.68686868\n",
      "2\n",
      "3.69\n"
     ]
    }
   ],
   "source": [
    "number_to_round = float(input())\n",
    "digits_to_leave = input()\n",
    "d_t_l = f'%.{digits_to_leave}f'\n",
    "print(d_t_l % number_to_round)"
   ]
  },
  {
   "cell_type": "code",
   "execution_count": 4,
   "id": "86ce0ce0",
   "metadata": {},
   "outputs": [
    {
     "name": "stdout",
     "output_type": "stream",
     "text": [
      "13000\n",
      "The tax for 13000 is 0%. That is 0 dollars!\n"
     ]
    }
   ],
   "source": [
    "income = int(input())\n",
    "bracket_1 = 15527\n",
    "bracket_2 = 42707\n",
    "bracket_3 = 132406\n",
    "percent = 0\n",
    "if income > bracket_1:\n",
    "    percent = 15\n",
    "    if income > bracket_2:\n",
    "        percent = 25\n",
    "        if income > bracket_3:\n",
    "            percent = 28\n",
    "calculated_tax = '%.0f' % (income * percent / 100)\n",
    "print(f'The tax for {income} is {percent}%. That is {calculated_tax} dollars!')"
   ]
  },
  {
   "cell_type": "code",
   "execution_count": 6,
   "id": "da62cb72",
   "metadata": {},
   "outputs": [
    {
     "ename": "NameError",
     "evalue": "name 'multiply' is not defined",
     "output_type": "error",
     "traceback": [
      "\u001b[1;31m---------------------------------------------------------------------------\u001b[0m",
      "\u001b[1;31mNameError\u001b[0m                                 Traceback (most recent call last)",
      "\u001b[1;32m<ipython-input-6-9d8a7cbbf17d>\u001b[0m in \u001b[0;36m<module>\u001b[1;34m\u001b[0m\n\u001b[1;32m----> 1\u001b[1;33m \u001b[0mmultiply\u001b[0m\u001b[1;33m(\u001b[0m\u001b[1;36m1\u001b[0m\u001b[1;33m,\u001b[0m \u001b[1;36m7\u001b[0m\u001b[1;33m)\u001b[0m\u001b[1;33m\u001b[0m\u001b[1;33m\u001b[0m\u001b[0m\n\u001b[0m",
      "\u001b[1;31mNameError\u001b[0m: name 'multiply' is not defined"
     ]
    }
   ],
   "source": [
    "multiply(1, 7)"
   ]
  },
  {
   "cell_type": "code",
   "execution_count": 15,
   "id": "f1329143",
   "metadata": {},
   "outputs": [
    {
     "name": "stdout",
     "output_type": "stream",
     "text": [
      "123iiiiiryryryiiiiiwuoqeuo\n"
     ]
    }
   ],
   "source": [
    "# print(*objects, sep=' ', end='\\n', file=sys.stdout, flush=False)\n",
    "a = 123\n",
    "b = 'ryryry'\n",
    "c = 'wuoqeuo'\n",
    "print(a, b, c, sep='iiiii', end='\\n')"
   ]
  },
  {
   "cell_type": "code",
   "execution_count": 16,
   "id": "1ccc2172",
   "metadata": {},
   "outputs": [
    {
     "name": "stdout",
     "output_type": "stream",
     "text": [
      "<class 'builtin_function_or_method'>\n"
     ]
    }
   ],
   "source": [
    "print(type(print))"
   ]
  },
  {
   "cell_type": "code",
   "execution_count": 27,
   "id": "11bc1046",
   "metadata": {},
   "outputs": [
    {
     "name": "stdout",
     "output_type": "stream",
     "text": [
      "1\n",
      "2\n",
      "13\n"
     ]
    }
   ],
   "source": [
    "x = int(input())\n",
    "y = int(input())\n",
    "# the variables `x` and `y` are defined, so just print their sum\n",
    "print(sum((x, y), start=10))"
   ]
  },
  {
   "cell_type": "code",
   "execution_count": 29,
   "id": "33614e6f",
   "metadata": {},
   "outputs": [
    {
     "name": "stdout",
     "output_type": "stream",
     "text": [
      "Riddikulus\n",
      "s\n"
     ]
    },
    {
     "data": {
      "text/plain": [
       "10"
      ]
     },
     "execution_count": 29,
     "metadata": {},
     "output_type": "execute_result"
    }
   ],
   "source": [
    "word1 = input()\n",
    "word2 = input()\n",
    "\n",
    "# How many letters does the longest word contain?\n",
    "max((len(word1), len(word2)))\n"
   ]
  },
  {
   "cell_type": "code",
   "execution_count": 30,
   "id": "1e937562",
   "metadata": {},
   "outputs": [],
   "source": [
    "def welcome():\n",
    "    print(\"Hello, people!\")"
   ]
  },
  {
   "cell_type": "code",
   "execution_count": 33,
   "id": "732bac82",
   "metadata": {},
   "outputs": [
    {
     "data": {
      "text/plain": [
       "<function __main__.welcome()>"
      ]
     },
     "execution_count": 33,
     "metadata": {},
     "output_type": "execute_result"
    }
   ],
   "source": [
    "welcome"
   ]
  },
  {
   "cell_type": "code",
   "execution_count": null,
   "id": "c6b31556",
   "metadata": {},
   "outputs": [],
   "source": []
  },
  {
   "cell_type": "code",
   "execution_count": 41,
   "id": "85fc2704",
   "metadata": {},
   "outputs": [
    {
     "name": "stdout",
     "output_type": "stream",
     "text": [
      "285\n"
     ]
    }
   ],
   "source": [
    "x = 19\n",
    "y = 15\n",
    "print(multiply(x, y))"
   ]
  },
  {
   "cell_type": "code",
   "execution_count": null,
   "id": "423b996e",
   "metadata": {},
   "outputs": [],
   "source": []
  },
  {
   "cell_type": "code",
   "execution_count": 39,
   "id": "d75c4902",
   "metadata": {},
   "outputs": [
    {
     "name": "stdout",
     "output_type": "stream",
     "text": [
      "285\n"
     ]
    }
   ],
   "source": [
    "x = 19\n",
    "y = 15\n",
    "print(multiply(x, y))"
   ]
  },
  {
   "cell_type": "code",
   "execution_count": null,
   "id": "0979286a",
   "metadata": {},
   "outputs": [],
   "source": []
  }
 ],
 "metadata": {
  "kernelspec": {
   "display_name": "Python 3",
   "language": "python",
   "name": "python3"
  },
  "language_info": {
   "codemirror_mode": {
    "name": "ipython",
    "version": 3
   },
   "file_extension": ".py",
   "mimetype": "text/x-python",
   "name": "python",
   "nbconvert_exporter": "python",
   "pygments_lexer": "ipython3",
   "version": "3.8.8"
  }
 },
 "nbformat": 4,
 "nbformat_minor": 5
}
