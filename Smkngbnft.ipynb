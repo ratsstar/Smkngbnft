{
 "cells": [
  {
   "cell_type": "code",
   "execution_count": 1,
   "id": "98e1aab4",
   "metadata": {},
   "outputs": [
    {
     "name": "stdout",
     "output_type": "stream",
     "text": [
      "Average number of sigarette packs per day: 2\n",
      "Average time to smoke one sigarette (est. 10 min): 10\n",
      "Sigarette pack's price: 270\n",
      "Total benefit: 25 full 8-hour days + 16200.0 per mth\n"
     ]
    }
   ],
   "source": [
    "# inputs\n",
    "packs_per_day = float(input('Average number of sigarette packs per day, items: '))\n",
    "time_to_smoke = int(input('Average time to smoke one sigarette, min): '))\n",
    "price = int(input('Sigarette pack\\'s price, money units: '))\n",
    "# constants\n",
    "ITEMS_IN_PACK = 20\n",
    "MINUTES_IN_HOUR = 60\n",
    "DAYS_IN_MTH = 30\n",
    "WORK_DAY = 8\n",
    "# calculations\n",
    "expence = DAYS_IN_MTH * price * packs_per_day\n",
    "working_days = ITEMS_IN_PACK * time_to_smoke * packs_per_day * DAYS_IN_MTH / MINUTES_IN_HOUR / WORK_DAY\n",
    "print('Total benefit: ' + str(round(working_days)) + ' full 8-hour days + '+ str(expence) + 'money units per mth')"
   ]
  },
  {
   "cell_type": "code",
   "execution_count": null,
   "id": "f720e1e3",
   "metadata": {},
   "outputs": [],
   "source": []
  }
 ],
 "metadata": {
  "kernelspec": {
   "display_name": "Python 3",
   "language": "python",
   "name": "python3"
  },
  "language_info": {
   "codemirror_mode": {
    "name": "ipython",
    "version": 3
   },
   "file_extension": ".py",
   "mimetype": "text/x-python",
   "name": "python",
   "nbconvert_exporter": "python",
   "pygments_lexer": "ipython3",
   "version": "3.8.8"
  }
 },
 "nbformat": 4,
 "nbformat_minor": 5
}
