{
 "cells": [
  {
   "cell_type": "code",
   "execution_count": 2,
   "id": "98e1aab4",
   "metadata": {},
   "outputs": [
    {
     "name": "stdout",
     "output_type": "stream",
     "text": [
      "Average number of sigarette packs per day, items: 1\n",
      "Average time to smoke one sigarette, min: 10\n",
      "Sigarette pack's price, money units: 270\n",
      "Currency: RUB\n",
      "Total benefit comprices 12 full 8-hour working days and 8100 RUB per mth\n"
     ]
    }
   ],
   "source": [
    "# inputs\n",
    "packs_per_day = float(input('Average number of sigarette packs per day, items: '))\n",
    "time_to_smoke = int(input('Average time to smoke one sigarette, min: '))\n",
    "price = int(input('Sigarette pack\\'s price, money units: '))\n",
    "currency = input('Currency: ')\n",
    "# constants\n",
    "ITEMS_IN_PACK = 20\n",
    "MINUTES_IN_HOUR = 60\n",
    "DAYS_IN_MTH = 30\n",
    "WORK_DAY = 8\n",
    "# calculations\n",
    "expence = DAYS_IN_MTH * price * packs_per_day\n",
    "working_days = ITEMS_IN_PACK * time_to_smoke * packs_per_day * DAYS_IN_MTH / MINUTES_IN_HOUR / WORK_DAY\n",
    "# f-strings were introduced\n",
    "print(f'Total benefit comprices {round(working_days)} full 8-hour working days and {expence:.0f} {currency} per mth')"
   ]
  },
  {
   "cell_type": "code",
   "execution_count": null,
   "id": "9d109d8b",
   "metadata": {},
   "outputs": [],
   "source": []
  }
 ],
 "metadata": {
  "kernelspec": {
   "display_name": "Python 3",
   "language": "python",
   "name": "python3"
  },
  "language_info": {
   "codemirror_mode": {
    "name": "ipython",
    "version": 3
   },
   "file_extension": ".py",
   "mimetype": "text/x-python",
   "name": "python",
   "nbconvert_exporter": "python",
   "pygments_lexer": "ipython3",
   "version": "3.8.8"
  }
 },
 "nbformat": 4,
 "nbformat_minor": 5
}
